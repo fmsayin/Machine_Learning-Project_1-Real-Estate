{
 "cells": [
  {
   "cell_type": "markdown",
   "metadata": {},
   "source": [
    "# Linear Regression"
   ]
  },
  {
   "cell_type": "code",
   "execution_count": 249,
   "metadata": {},
   "outputs": [],
   "source": [
    "import pandas as pd\n",
    "import numpy as np\n",
    "import matplotlib.pyplot as plt\n",
    "from sklearn.linear_model import LinearRegression\n",
    "from sklearn.metrics import r2_score"
   ]
  },
  {
   "cell_type": "code",
   "execution_count": 250,
   "metadata": {
    "scrolled": false
   },
   "outputs": [
    {
     "data": {
      "text/html": [
       "<div>\n",
       "<style scoped>\n",
       "    .dataframe tbody tr th:only-of-type {\n",
       "        vertical-align: middle;\n",
       "    }\n",
       "\n",
       "    .dataframe tbody tr th {\n",
       "        vertical-align: top;\n",
       "    }\n",
       "\n",
       "    .dataframe thead th {\n",
       "        text-align: right;\n",
       "    }\n",
       "</style>\n",
       "<table border=\"1\" class=\"dataframe\">\n",
       "  <thead>\n",
       "    <tr style=\"text-align: right;\">\n",
       "      <th></th>\n",
       "      <th>Index</th>\n",
       "      <th>Height_Inches</th>\n",
       "      <th>Weight_Pounds</th>\n",
       "    </tr>\n",
       "  </thead>\n",
       "  <tbody>\n",
       "    <tr>\n",
       "      <th>0</th>\n",
       "      <td>1</td>\n",
       "      <td>65.78</td>\n",
       "      <td>112.99</td>\n",
       "    </tr>\n",
       "    <tr>\n",
       "      <th>1</th>\n",
       "      <td>2</td>\n",
       "      <td>71.52</td>\n",
       "      <td>136.49</td>\n",
       "    </tr>\n",
       "    <tr>\n",
       "      <th>2</th>\n",
       "      <td>3</td>\n",
       "      <td>69.40</td>\n",
       "      <td>153.03</td>\n",
       "    </tr>\n",
       "    <tr>\n",
       "      <th>3</th>\n",
       "      <td>4</td>\n",
       "      <td>68.22</td>\n",
       "      <td>142.34</td>\n",
       "    </tr>\n",
       "    <tr>\n",
       "      <th>4</th>\n",
       "      <td>5</td>\n",
       "      <td>67.79</td>\n",
       "      <td>144.30</td>\n",
       "    </tr>\n",
       "  </tbody>\n",
       "</table>\n",
       "</div>"
      ],
      "text/plain": [
       "   Index  Height_Inches  Weight_Pounds\n",
       "0      1          65.78         112.99\n",
       "1      2          71.52         136.49\n",
       "2      3          69.40         153.03\n",
       "3      4          68.22         142.34\n",
       "4      5          67.79         144.30"
      ]
     },
     "execution_count": 250,
     "metadata": {},
     "output_type": "execute_result"
    }
   ],
   "source": [
    "data_df=pd.read_csv(\"Height_Weight.csv\")\n",
    "data_df.head()"
   ]
  },
  {
   "cell_type": "code",
   "execution_count": 251,
   "metadata": {},
   "outputs": [
    {
     "name": "stdout",
     "output_type": "stream",
     "text": [
      "Index(['Index', 'Height_Inches', 'Weight_Pounds'], dtype='object')\n"
     ]
    }
   ],
   "source": [
    "print(data_df.columns)"
   ]
  },
  {
   "cell_type": "code",
   "execution_count": 252,
   "metadata": {},
   "outputs": [],
   "source": [
    "Height = data.Height_Inches.values.reshape(-1,1)\n",
    "Weight = data.Weight_Pounds.values.reshape(-1,1)"
   ]
  },
  {
   "cell_type": "code",
   "execution_count": 253,
   "metadata": {
    "scrolled": true
   },
   "outputs": [
    {
     "data": {
      "text/plain": [
       "LinearRegression(copy_X=True, fit_intercept=True, n_jobs=None,\n",
       "         normalize=False)"
      ]
     },
     "execution_count": 253,
     "metadata": {},
     "output_type": "execute_result"
    }
   ],
   "source": [
    "regression = LinearRegression()\n",
    "regression.fit(Height,Weight)"
   ]
  },
  {
   "cell_type": "code",
   "execution_count": 254,
   "metadata": {},
   "outputs": [
    {
     "name": "stdout",
     "output_type": "stream",
     "text": [
      "[[134.2596226]]\n",
      "[[141.12497486]]\n",
      "[[147.99032712]]\n",
      "[[154.85567938]]\n",
      "[[161.72103163]]\n",
      "[[168.58638389]]\n"
     ]
    }
   ],
   "source": [
    "print(regression.predict([[70]]))\n",
    "print(regression.predict([[72]]))\n",
    "print(regression.predict([[74]]))\n",
    "print(regression.predict([[76]]))\n",
    "print(regression.predict([[78]]))\n",
    "print(regression.predict([[80]]))\n"
   ]
  },
  {
   "cell_type": "code",
   "execution_count": 255,
   "metadata": {},
   "outputs": [
    {
     "name": "stdout",
     "output_type": "stream",
     "text": [
      "Index(['Index', 'Height_Inches', 'Weight_Pounds'], dtype='object')\n"
     ]
    }
   ],
   "source": [
    "print(data_df.columns)"
   ]
  },
  {
   "cell_type": "code",
   "execution_count": 256,
   "metadata": {},
   "outputs": [
    {
     "data": {
      "image/png": "[encoded data removed]",
      "text/plain": [
       "<Figure size 432x288 with 1 Axes>"
      ]
     },
     "metadata": {
      "needs_background": "light"
     },
     "output_type": "display_data"
    }
   ],
   "source": [
    "plt.scatter(data_df.Height_Inches,data_df.Weight_Pounds)\n",
    "x = np.arange(min(data_df.Height_Inches),max(data_df.Weight_Pounds)).reshape(-1,1)\n",
    "plt.plot(x,regression.predict(x),color=\"red\")\n",
    "plt.xlabel(\"Height (Inches)\")\n",
    "plt.ylabel(\"Weight (Pounds)\")\n",
    "plt.title(\"Simple Linear Regression Model\")\n",
    "plt.show()"
   ]
  },
  {
   "cell_type": "markdown",
   "metadata": {},
   "source": [
    "# Kullandigimiz Algoritmanin dogrulugunu test etmek\n"
   ]
  },
  {
   "cell_type": "code",
   "execution_count": 257,
   "metadata": {},
   "outputs": [],
   "source": [
    "#Bunun için  sklearn kutuphanemizden bunu kuruyoruz\n",
    "from sklearn.metrics import r2_score\n"
   ]
  },
  {
   "cell_type": "code",
   "execution_count": 258,
   "metadata": {},
   "outputs": [
    {
     "name": "stdout",
     "output_type": "stream",
     "text": [
      "0.31009833265482667\n"
     ]
    }
   ],
   "source": [
    "print(r2_score(Weight,regression.predict(Height)))"
   ]
  },
  {
   "cell_type": "markdown",
   "metadata": {},
   "source": [
    "# Mutltiple Linear Regression"
   ]
  },
  {
   "cell_type": "code",
   "execution_count": 221,
   "metadata": {},
   "outputs": [],
   "source": [
    "import pandas as pd\n",
    "import numpy as np\n",
    "import matplotlib.pyplot as plt\n",
    "from sklearn.linear_model import LinearRegression\n",
    "from sklearn.metrics import r2_score\n"
   ]
  },
  {
   "cell_type": "code",
   "execution_count": 222,
   "metadata": {},
   "outputs": [],
   "source": [
    "homes_data=pd.read_csv(\"homes.csv\")"
   ]
  },
  {
   "cell_type": "code",
   "execution_count": 223,
   "metadata": {},
   "outputs": [
    {
     "name": "stdout",
     "output_type": "stream",
     "text": [
      "Index(['Sell', 'List', 'Living', 'Rooms', 'Beds', 'Baths', 'Age', 'Acres',\n",
      "       'Taxes'],\n",
      "      dtype='object')\n"
     ]
    }
   ],
   "source": [
    "print(homes_data.columns)"
   ]
  },
  {
   "cell_type": "code",
   "execution_count": 224,
   "metadata": {},
   "outputs": [
    {
     "name": "stdout",
     "output_type": "stream",
     "text": [
      "<bound method NDFrame.describe of     Sell  List  Living  Rooms  Beds  Baths  Age  Acres  Taxes\n",
      "0    142   160      28     10     5      3   60   0.28   3167\n",
      "1    175   180      18      8     4      1   12   0.43   4033\n",
      "2    129   132      13      6     3      1   41   0.33   1471\n",
      "3    138   140      17      7     3      1   22   0.46   3204\n",
      "4    232   240      25      8     4      3    5   2.05   3613\n",
      "5    135   140      18      7     4      3    9   0.57   3028\n",
      "6    150   160      20      8     4      3   18   4.00   3131\n",
      "7    207   225      22      8     4      2   16   2.22   5158\n",
      "8    271   285      30     10     5      2   30   0.53   5702\n",
      "9     89    90      10      5     3      1   43   0.30   2054\n",
      "10   153   157      22      8     3      3   18   0.38   4127\n",
      "11    87    90      16      7     3      1   50   0.65   1445\n",
      "12   234   238      25      8     4      2    2   1.61   2087\n",
      "13   106   116      20      8     4      1   13   0.22   2818\n",
      "14   175   180      22      8     4      2   15   2.06   3917\n",
      "15   165   170      17      8     4      2   33   0.46   2220\n",
      "16   166   170      23      9     4      2   37   0.27   3498\n",
      "17   136   140      19      7     3      1   22   0.63   3607\n",
      "18   148   160      17      7     3      2   13   0.36   3648\n",
      "19   151   153      19      8     4      2   24   0.34   3561\n",
      "20   180   190      24      9     4      2   10   1.55   4681\n",
      "21   293   305      26      8     4      3    6   0.46   7088\n",
      "22   167   170      20      9     4      2   46   0.46   3482\n",
      "23   190   193      22      9     5      2   37   0.48   3920\n",
      "24   184   190      21      9     5      2   27   1.30   4162\n",
      "25   157   165      20      8     4      2    7   0.30   3785\n",
      "26   110   115      16      8     4      1   26   0.29   3103\n",
      "27   135   145      18      7     4      1   35   0.43   3363\n",
      "28   567   625      64     11     4      4    4   0.85  12192\n",
      "29   180   185      20      8     4      2   11   1.00   3831\n",
      "30   183   188      17      7     3      2   16   3.00   3564\n",
      "31   185   193      20      9     3      2   56   6.49   3765\n",
      "32   152   155      17      8     4      1   33   0.70   3361\n",
      "33   148   153      13      6     3      2   22   0.39   3950\n",
      "34   152   159      15      7     3      1   25   0.59   3055\n",
      "35   146   150      16      7     3      1   31   0.36   2950\n",
      "36   170   190      24     10     3      2   33   0.57   3346\n",
      "37   127   130      20      8     4      1   65   0.40   3334\n",
      "38   265   270      36     10     6      3   33   1.20   5853\n",
      "39   157   163      18      8     4      2   12   1.13   3982\n",
      "40   128   135      17      9     4      1   25   0.52   3374\n",
      "41   110   120      15      8     4      2   11   0.59   3119\n",
      "42   123   130      18      8     4      2   43   0.39   3268\n",
      "43   212   230      39     12     5      3  202   4.29   3648\n",
      "44   145   145      18      8     4      2   44   0.22   2783\n",
      "45   129   135      10      6     3      1   15   1.00   2438\n",
      "46   143   145      21      7     4      2   10   1.20   3529\n",
      "47   247   252      29      9     4      2    4   1.25   4626\n",
      "48   111   120      15      8     3      1   97   1.11   3205\n",
      "49   133   145      26      7     3      1   42   0.36   3059>\n"
     ]
    }
   ],
   "source": [
    "print (homes_data.describe)"
   ]
  },
  {
   "cell_type": "code",
   "execution_count": 225,
   "metadata": {},
   "outputs": [
    {
     "data": {
      "text/html": [
       "<div>\n",
       "<style scoped>\n",
       "    .dataframe tbody tr th:only-of-type {\n",
       "        vertical-align: middle;\n",
       "    }\n",
       "\n",
       "    .dataframe tbody tr th {\n",
       "        vertical-align: top;\n",
       "    }\n",
       "\n",
       "    .dataframe thead th {\n",
       "        text-align: right;\n",
       "    }\n",
       "</style>\n",
       "<table border=\"1\" class=\"dataframe\">\n",
       "  <thead>\n",
       "    <tr style=\"text-align: right;\">\n",
       "      <th></th>\n",
       "      <th>Sell</th>\n",
       "      <th>List</th>\n",
       "      <th>Living</th>\n",
       "      <th>Rooms</th>\n",
       "      <th>Beds</th>\n",
       "      <th>Baths</th>\n",
       "      <th>Age</th>\n",
       "      <th>Acres</th>\n",
       "      <th>Taxes</th>\n",
       "    </tr>\n",
       "  </thead>\n",
       "  <tbody>\n",
       "    <tr>\n",
       "      <th>0</th>\n",
       "      <td>142</td>\n",
       "      <td>160</td>\n",
       "      <td>28</td>\n",
       "      <td>10</td>\n",
       "      <td>5</td>\n",
       "      <td>3</td>\n",
       "      <td>60</td>\n",
       "      <td>0.28</td>\n",
       "      <td>3167</td>\n",
       "    </tr>\n",
       "    <tr>\n",
       "      <th>1</th>\n",
       "      <td>175</td>\n",
       "      <td>180</td>\n",
       "      <td>18</td>\n",
       "      <td>8</td>\n",
       "      <td>4</td>\n",
       "      <td>1</td>\n",
       "      <td>12</td>\n",
       "      <td>0.43</td>\n",
       "      <td>4033</td>\n",
       "    </tr>\n",
       "    <tr>\n",
       "      <th>2</th>\n",
       "      <td>129</td>\n",
       "      <td>132</td>\n",
       "      <td>13</td>\n",
       "      <td>6</td>\n",
       "      <td>3</td>\n",
       "      <td>1</td>\n",
       "      <td>41</td>\n",
       "      <td>0.33</td>\n",
       "      <td>1471</td>\n",
       "    </tr>\n",
       "    <tr>\n",
       "      <th>3</th>\n",
       "      <td>138</td>\n",
       "      <td>140</td>\n",
       "      <td>17</td>\n",
       "      <td>7</td>\n",
       "      <td>3</td>\n",
       "      <td>1</td>\n",
       "      <td>22</td>\n",
       "      <td>0.46</td>\n",
       "      <td>3204</td>\n",
       "    </tr>\n",
       "    <tr>\n",
       "      <th>4</th>\n",
       "      <td>232</td>\n",
       "      <td>240</td>\n",
       "      <td>25</td>\n",
       "      <td>8</td>\n",
       "      <td>4</td>\n",
       "      <td>3</td>\n",
       "      <td>5</td>\n",
       "      <td>2.05</td>\n",
       "      <td>3613</td>\n",
       "    </tr>\n",
       "  </tbody>\n",
       "</table>\n",
       "</div>"
      ],
      "text/plain": [
       "   Sell  List  Living  Rooms  Beds  Baths  Age  Acres  Taxes\n",
       "0   142   160      28     10     5      3   60   0.28   3167\n",
       "1   175   180      18      8     4      1   12   0.43   4033\n",
       "2   129   132      13      6     3      1   41   0.33   1471\n",
       "3   138   140      17      7     3      1   22   0.46   3204\n",
       "4   232   240      25      8     4      3    5   2.05   3613"
      ]
     },
     "execution_count": 225,
     "metadata": {},
     "output_type": "execute_result"
    }
   ],
   "source": [
    "homes_data.head()"
   ]
  },
  {
   "cell_type": "code",
   "execution_count": 226,
   "metadata": {},
   "outputs": [],
   "source": [
    "Sell = homes_data.Sell.values.reshape(-1,1) # Burada \"y\" eksenini olusturduk\n"
   ]
  },
  {
   "cell_type": "code",
   "execution_count": 227,
   "metadata": {},
   "outputs": [],
   "source": [
    "# \"iloc\" ile her iki datayi yani \"age ve Bmis\" i birlikte cekebiliyorz.\n",
    "RoomsAge = homes_data.iloc[:,[5,8]].values # Burada \"x\" ekseni olusturuluyor\n",
    "# : nokta koydugumuzda tum datayi cek diyoruz [0,2] ile ise kolonloru istedigimiz kolonlari aliyoruz"
   ]
  },
  {
   "cell_type": "code",
   "execution_count": 228,
   "metadata": {},
   "outputs": [],
   "source": [
    "regression = LinearRegression() # instance (ornek, olusum) olusturmak "
   ]
  },
  {
   "cell_type": "code",
   "execution_count": 229,
   "metadata": {},
   "outputs": [
    {
     "data": {
      "text/plain": [
       "LinearRegression(copy_X=True, fit_intercept=True, n_jobs=None,\n",
       "         normalize=False)"
      ]
     },
     "execution_count": 229,
     "metadata": {},
     "output_type": "execute_result"
    }
   ],
   "source": [
    "regression.fit(RoomsAge,Sell)"
   ]
  },
  {
   "cell_type": "code",
   "execution_count": 230,
   "metadata": {},
   "outputs": [
    {
     "name": "stdout",
     "output_type": "stream",
     "text": [
      "[[172.23665483]]\n"
     ]
    }
   ],
   "source": [
    "# Burada 20 yasindaki ve 20 bodymis degeri birinin harcamasini goruyoruz ([[5068.47110398]])\n",
    "print(regression.predict(np.array([[10,7]]))) # bura tahmin yani predict yapiyoruz"
   ]
  },
  {
   "cell_type": "code",
   "execution_count": 231,
   "metadata": {},
   "outputs": [
    {
     "name": "stdout",
     "output_type": "stream",
     "text": [
      "[[ 172.23665483]\n",
      " [ 256.74132991]\n",
      " [ 510.51225465]\n",
      " [1102.22847986]\n",
      " [  70.86040467]]\n"
     ]
    }
   ],
   "source": [
    "# (ilk rakan yas, ikinci deger Bmis ) yas ve vucut kitle indexini artiriyoruz. burada birinci siradakiler yas 2.siradakiler vucut kitle indexi\n",
    "print(regression.predict(np.array([[10,7],[15,6],[30,10],[65,8],[4,9]])))"
   ]
  }
 ],
 "metadata": {
  "kernelspec": {
   "display_name": "Python 3",
   "language": "python",
   "name": "python3"
  },
  "language_info": {
   "codemirror_mode": {
    "name": "ipython",
    "version": 3
   },
   "file_extension": ".py",
   "mimetype": "text/x-python",
   "name": "python",
   "nbconvert_exporter": "python",
   "pygments_lexer": "ipython3",
   "version": "3.6.8"
  }
 },
 "nbformat": 4,
 "nbformat_minor": 2
}
