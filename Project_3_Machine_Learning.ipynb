{
 "cells": [
  {
   "cell_type": "markdown",
   "metadata": {},
   "source": [
    "# Machine Learning Project\n",
    "# Real Estate Data Set"
   ]
  },
  {
   "cell_type": "code",
   "execution_count": 1,
   "metadata": {},
   "outputs": [],
   "source": [
    "import pandas as pd\n",
    "import numpy as np\n",
    "import matplotlib.pyplot as plt\n",
    "from sklearn.linear_model import LinearRegression\n",
    "from sklearn.preprocessing import PolynomialFeatures\n",
    "from sklearn.metrics import r2_score\n",
    "from sklearn.tree import DecisionTreeRegressor\n",
    "from sklearn.ensemble import RandomForestRegressor\n",
    "from pandas import ExcelWriter\n",
    "from pandas import ExcelFile\n",
    "from sklearn.model_selection import train_test_split"
   ]
  },
  {
   "cell_type": "code",
   "execution_count": 2,
   "metadata": {},
   "outputs": [
    {
     "data": {
      "text/html": [
       "<div>\n",
       "<style scoped>\n",
       "    .dataframe tbody tr th:only-of-type {\n",
       "        vertical-align: middle;\n",
       "    }\n",
       "\n",
       "    .dataframe tbody tr th {\n",
       "        vertical-align: top;\n",
       "    }\n",
       "\n",
       "    .dataframe thead th {\n",
       "        text-align: right;\n",
       "    }\n",
       "</style>\n",
       "<table border=\"1\" class=\"dataframe\">\n",
       "  <thead>\n",
       "    <tr style=\"text-align: right;\">\n",
       "      <th></th>\n",
       "      <th>No</th>\n",
       "      <th>X1 transaction date</th>\n",
       "      <th>X2 house age</th>\n",
       "      <th>X3 distance to the nearest MRT station</th>\n",
       "      <th>X4 number of convenience stores</th>\n",
       "      <th>X5 latitude</th>\n",
       "      <th>X6 longitude</th>\n",
       "      <th>Y house price of unit area</th>\n",
       "    </tr>\n",
       "  </thead>\n",
       "  <tbody>\n",
       "    <tr>\n",
       "      <th>0</th>\n",
       "      <td>1</td>\n",
       "      <td>2012.917</td>\n",
       "      <td>32.0</td>\n",
       "      <td>84.87882</td>\n",
       "      <td>10</td>\n",
       "      <td>24.98298</td>\n",
       "      <td>121.54024</td>\n",
       "      <td>37.9</td>\n",
       "    </tr>\n",
       "    <tr>\n",
       "      <th>1</th>\n",
       "      <td>2</td>\n",
       "      <td>2012.917</td>\n",
       "      <td>19.5</td>\n",
       "      <td>306.59470</td>\n",
       "      <td>9</td>\n",
       "      <td>24.98034</td>\n",
       "      <td>121.53951</td>\n",
       "      <td>42.2</td>\n",
       "    </tr>\n",
       "    <tr>\n",
       "      <th>2</th>\n",
       "      <td>3</td>\n",
       "      <td>2013.583</td>\n",
       "      <td>13.3</td>\n",
       "      <td>561.98450</td>\n",
       "      <td>5</td>\n",
       "      <td>24.98746</td>\n",
       "      <td>121.54391</td>\n",
       "      <td>47.3</td>\n",
       "    </tr>\n",
       "    <tr>\n",
       "      <th>3</th>\n",
       "      <td>4</td>\n",
       "      <td>2013.500</td>\n",
       "      <td>13.3</td>\n",
       "      <td>561.98450</td>\n",
       "      <td>5</td>\n",
       "      <td>24.98746</td>\n",
       "      <td>121.54391</td>\n",
       "      <td>54.8</td>\n",
       "    </tr>\n",
       "    <tr>\n",
       "      <th>4</th>\n",
       "      <td>5</td>\n",
       "      <td>2012.833</td>\n",
       "      <td>5.0</td>\n",
       "      <td>390.56840</td>\n",
       "      <td>5</td>\n",
       "      <td>24.97937</td>\n",
       "      <td>121.54245</td>\n",
       "      <td>43.1</td>\n",
       "    </tr>\n",
       "  </tbody>\n",
       "</table>\n",
       "</div>"
      ],
      "text/plain": [
       "   No  X1 transaction date  X2 house age  \\\n",
       "0   1             2012.917          32.0   \n",
       "1   2             2012.917          19.5   \n",
       "2   3             2013.583          13.3   \n",
       "3   4             2013.500          13.3   \n",
       "4   5             2012.833           5.0   \n",
       "\n",
       "   X3 distance to the nearest MRT station  X4 number of convenience stores  \\\n",
       "0                                84.87882                               10   \n",
       "1                               306.59470                                9   \n",
       "2                               561.98450                                5   \n",
       "3                               561.98450                                5   \n",
       "4                               390.56840                                5   \n",
       "\n",
       "   X5 latitude  X6 longitude  Y house price of unit area  \n",
       "0     24.98298     121.54024                        37.9  \n",
       "1     24.98034     121.53951                        42.2  \n",
       "2     24.98746     121.54391                        47.3  \n",
       "3     24.98746     121.54391                        54.8  \n",
       "4     24.97937     121.54245                        43.1  "
      ]
     },
     "execution_count": 2,
     "metadata": {},
     "output_type": "execute_result"
    }
   ],
   "source": [
    "df=pd.read_csv(\"Real estate valuation data set.csv\")\n",
    "df.head()"
   ]
  },
  {
   "cell_type": "code",
   "execution_count": 3,
   "metadata": {},
   "outputs": [
    {
     "name": "stdout",
     "output_type": "stream",
     "text": [
      "Index(['No', 'X1 transaction date', 'X2 house age',\n",
      "       'X3 distance to the nearest MRT station',\n",
      "       'X4 number of convenience stores', 'X5 latitude', 'X6 longitude',\n",
      "       'Y house price of unit area'],\n",
      "      dtype='object')\n"
     ]
    }
   ],
   "source": [
    "print (df.columns)"
   ]
  },
  {
   "cell_type": "code",
   "execution_count": 4,
   "metadata": {},
   "outputs": [
    {
     "data": {
      "text/html": [
       "<div>\n",
       "<style scoped>\n",
       "    .dataframe tbody tr th:only-of-type {\n",
       "        vertical-align: middle;\n",
       "    }\n",
       "\n",
       "    .dataframe tbody tr th {\n",
       "        vertical-align: top;\n",
       "    }\n",
       "\n",
       "    .dataframe thead th {\n",
       "        text-align: right;\n",
       "    }\n",
       "</style>\n",
       "<table border=\"1\" class=\"dataframe\">\n",
       "  <thead>\n",
       "    <tr style=\"text-align: right;\">\n",
       "      <th></th>\n",
       "      <th>X1 transaction date</th>\n",
       "      <th>X2 house age</th>\n",
       "      <th>X3 distance to the nearest MRT station</th>\n",
       "      <th>X4 number of convenience stores</th>\n",
       "      <th>X5 latitude</th>\n",
       "      <th>X6 longitude</th>\n",
       "    </tr>\n",
       "  </thead>\n",
       "  <tbody>\n",
       "    <tr>\n",
       "      <th>0</th>\n",
       "      <td>2012.917</td>\n",
       "      <td>32.0</td>\n",
       "      <td>84.87882</td>\n",
       "      <td>10</td>\n",
       "      <td>24.98298</td>\n",
       "      <td>121.54024</td>\n",
       "    </tr>\n",
       "    <tr>\n",
       "      <th>1</th>\n",
       "      <td>2012.917</td>\n",
       "      <td>19.5</td>\n",
       "      <td>306.59470</td>\n",
       "      <td>9</td>\n",
       "      <td>24.98034</td>\n",
       "      <td>121.53951</td>\n",
       "    </tr>\n",
       "    <tr>\n",
       "      <th>2</th>\n",
       "      <td>2013.583</td>\n",
       "      <td>13.3</td>\n",
       "      <td>561.98450</td>\n",
       "      <td>5</td>\n",
       "      <td>24.98746</td>\n",
       "      <td>121.54391</td>\n",
       "    </tr>\n",
       "    <tr>\n",
       "      <th>3</th>\n",
       "      <td>2013.500</td>\n",
       "      <td>13.3</td>\n",
       "      <td>561.98450</td>\n",
       "      <td>5</td>\n",
       "      <td>24.98746</td>\n",
       "      <td>121.54391</td>\n",
       "    </tr>\n",
       "    <tr>\n",
       "      <th>4</th>\n",
       "      <td>2012.833</td>\n",
       "      <td>5.0</td>\n",
       "      <td>390.56840</td>\n",
       "      <td>5</td>\n",
       "      <td>24.97937</td>\n",
       "      <td>121.54245</td>\n",
       "    </tr>\n",
       "  </tbody>\n",
       "</table>\n",
       "</div>"
      ],
      "text/plain": [
       "   X1 transaction date  X2 house age  X3 distance to the nearest MRT station  \\\n",
       "0             2012.917          32.0                                84.87882   \n",
       "1             2012.917          19.5                               306.59470   \n",
       "2             2013.583          13.3                               561.98450   \n",
       "3             2013.500          13.3                               561.98450   \n",
       "4             2012.833           5.0                               390.56840   \n",
       "\n",
       "   X4 number of convenience stores  X5 latitude  X6 longitude  \n",
       "0                               10     24.98298     121.54024  \n",
       "1                                9     24.98034     121.53951  \n",
       "2                                5     24.98746     121.54391  \n",
       "3                                5     24.98746     121.54391  \n",
       "4                                5     24.97937     121.54245  "
      ]
     },
     "execution_count": 4,
     "metadata": {},
     "output_type": "execute_result"
    }
   ],
   "source": [
    "data= df.iloc[:,1:-1]\n",
    "data.head()"
   ]
  },
  {
   "cell_type": "code",
   "execution_count": 5,
   "metadata": {},
   "outputs": [
    {
     "data": {
      "text/plain": [
       "(414,)"
      ]
     },
     "execution_count": 5,
     "metadata": {},
     "output_type": "execute_result"
    }
   ],
   "source": [
    "price = df[\"Y house price of unit area\"]\n",
    "price.shape"
   ]
  },
  {
   "cell_type": "code",
   "execution_count": 6,
   "metadata": {},
   "outputs": [
    {
     "name": "stdout",
     "output_type": "stream",
     "text": [
      "     X1 transaction date  X2 house age  \\\n",
      "7               2013.417          20.3   \n",
      "194             2013.500          15.2   \n",
      "19              2012.667           1.5   \n",
      "176             2012.833          13.9   \n",
      "367             2012.833          15.0   \n",
      "304             2013.417          20.0   \n",
      "198             2013.083          34.0   \n",
      "145             2012.917           2.1   \n",
      "265             2012.833          15.7   \n",
      "109             2013.583           4.0   \n",
      "202             2012.917          38.3   \n",
      "196             2013.000          22.8   \n",
      "396             2012.667          37.1   \n",
      "239             2013.500          18.1   \n",
      "83              2012.917          25.3   \n",
      "168             2013.083          27.6   \n",
      "323             2013.417          28.6   \n",
      "74              2012.917           6.8   \n",
      "383             2012.667          29.1   \n",
      "119             2013.500          16.6   \n",
      "209             2012.833          34.8   \n",
      "219             2012.750          29.3   \n",
      "153             2013.250           6.5   \n",
      "177             2013.083          33.0   \n",
      "387             2013.250          16.2   \n",
      "371             2013.500           4.1   \n",
      "36              2012.917          14.7   \n",
      "139             2012.667          12.9   \n",
      "338             2012.917          31.5   \n",
      "172             2013.583           6.6   \n",
      "..                   ...           ...   \n",
      "235             2012.750          12.9   \n",
      "252             2012.833           5.9   \n",
      "21              2013.417          10.5   \n",
      "313             2013.333           8.3   \n",
      "160             2012.917           3.5   \n",
      "276             2013.000          19.1   \n",
      "191             2013.167          13.2   \n",
      "385             2013.000          18.3   \n",
      "293             2012.667          12.6   \n",
      "343             2013.000          33.5   \n",
      "257             2013.250          17.3   \n",
      "308             2013.417          16.4   \n",
      "149             2012.667          34.9   \n",
      "130             2013.250          29.6   \n",
      "151             2013.500           4.9   \n",
      "359             2013.500           5.6   \n",
      "99              2013.417           6.4   \n",
      "372             2013.000          33.9   \n",
      "87              2013.583          16.9   \n",
      "330             2013.083          32.0   \n",
      "214             2013.583          18.1   \n",
      "121             2013.500          13.6   \n",
      "413             2013.500           6.5   \n",
      "20              2013.417           4.5   \n",
      "188             2012.917          34.8   \n",
      "71              2013.083          35.5   \n",
      "106             2013.083          17.2   \n",
      "270             2013.333          10.8   \n",
      "348             2012.833           4.6   \n",
      "102             2013.083           1.1   \n",
      "\n",
      "     X3 distance to the nearest MRT station  X4 number of convenience stores  \\\n",
      "7                                 287.60250                                6   \n",
      "194                              3771.89500                                0   \n",
      "19                                 23.38284                                7   \n",
      "176                              4573.77900                                0   \n",
      "367                              1828.31900                                2   \n",
      "304                              1626.08300                                3   \n",
      "198                               157.60520                                7   \n",
      "145                               451.24380                                5   \n",
      "265                               815.93140                                4   \n",
      "109                              2147.37600                                3   \n",
      "202                               642.69850                                3   \n",
      "196                               707.90670                                2   \n",
      "396                               918.63570                                1   \n",
      "239                               837.72330                                0   \n",
      "83                               2707.39200                                3   \n",
      "168                               515.11220                                5   \n",
      "323                               197.13380                                6   \n",
      "74                                379.55750                               10   \n",
      "383                               506.11440                                4   \n",
      "119                               289.32480                                5   \n",
      "209                               175.62940                                8   \n",
      "219                               529.77710                                8   \n",
      "153                               376.17090                                6   \n",
      "177                               181.07660                                9   \n",
      "387                              2103.55500                                3   \n",
      "371                               312.89630                                5   \n",
      "36                               1935.00900                                2   \n",
      "139                               492.23130                                5   \n",
      "338                               258.18600                                9   \n",
      "172                                90.45606                                9   \n",
      "..                                      ...                              ...   \n",
      "235                               250.63100                                7   \n",
      "252                                90.45606                                9   \n",
      "21                                279.17260                                7   \n",
      "313                               104.81010                                5   \n",
      "160                                49.66105                                8   \n",
      "276                               461.10160                                5   \n",
      "191                               750.07040                                2   \n",
      "385                                82.88643                               10   \n",
      "293                               383.28050                                7   \n",
      "343                               563.28540                                8   \n",
      "257                               444.13340                                1   \n",
      "308                               289.32480                                5   \n",
      "149                               179.45380                                8   \n",
      "130                               535.52700                                8   \n",
      "151                               387.77210                                9   \n",
      "359                              2408.99300                                0   \n",
      "99                                 90.45606                                9   \n",
      "372                               157.60520                                7   \n",
      "87                               4066.58700                                0   \n",
      "330                              1156.77700                                0   \n",
      "214                              1783.18000                                3   \n",
      "121                               492.23130                                5   \n",
      "413                                90.45606                                9   \n",
      "20                               2275.87700                                3   \n",
      "188                               190.03920                                8   \n",
      "71                                640.73910                                3   \n",
      "106                               189.51810                                8   \n",
      "270                               252.58220                                1   \n",
      "348                               259.66070                                6   \n",
      "102                               193.58450                                6   \n",
      "\n",
      "     X5 latitude  X6 longitude  \n",
      "7       24.98042     121.54228  \n",
      "194     24.93363     121.51158  \n",
      "19      24.96772     121.54102  \n",
      "176     24.94867     121.49507  \n",
      "367     24.96464     121.51531  \n",
      "304     24.96622     121.51668  \n",
      "198     24.96628     121.54196  \n",
      "145     24.97563     121.54694  \n",
      "265     24.97886     121.53464  \n",
      "109     24.96299     121.51284  \n",
      "202     24.97559     121.53713  \n",
      "196     24.98100     121.54713  \n",
      "396     24.97198     121.55063  \n",
      "239     24.96334     121.54767  \n",
      "83      24.96056     121.50831  \n",
      "168     24.96299     121.54320  \n",
      "323     24.97631     121.54436  \n",
      "74      24.98343     121.53762  \n",
      "383     24.97845     121.53889  \n",
      "119     24.98203     121.54348  \n",
      "209     24.97347     121.54271  \n",
      "219     24.98102     121.53655  \n",
      "153     24.95418     121.53713  \n",
      "177     24.97697     121.54262  \n",
      "387     24.96042     121.51462  \n",
      "371     24.95591     121.53956  \n",
      "36      24.96386     121.51458  \n",
      "139     24.96515     121.53737  \n",
      "338     24.96867     121.54331  \n",
      "172     24.97433     121.54310  \n",
      "..           ...           ...  \n",
      "235     24.96606     121.54297  \n",
      "252     24.97433     121.54310  \n",
      "21      24.97528     121.54541  \n",
      "313     24.96674     121.54067  \n",
      "160     24.95836     121.53756  \n",
      "276     24.95425     121.53990  \n",
      "191     24.97371     121.54951  \n",
      "385     24.98300     121.54026  \n",
      "293     24.96735     121.54464  \n",
      "343     24.98223     121.53597  \n",
      "257     24.97501     121.52730  \n",
      "308     24.98203     121.54348  \n",
      "149     24.97349     121.54245  \n",
      "130     24.98092     121.53653  \n",
      "151     24.98118     121.53788  \n",
      "359     24.95505     121.55964  \n",
      "99      24.97433     121.54310  \n",
      "372     24.96628     121.54196  \n",
      "87      24.94297     121.50342  \n",
      "330     24.94935     121.53046  \n",
      "214     24.96731     121.51486  \n",
      "121     24.96515     121.53737  \n",
      "413     24.97433     121.54310  \n",
      "20      24.96314     121.51151  \n",
      "188     24.97707     121.54312  \n",
      "71      24.97563     121.53715  \n",
      "106     24.97707     121.54308  \n",
      "270     24.97460     121.53046  \n",
      "348     24.97585     121.54516  \n",
      "102     24.96571     121.54089  \n",
      "\n",
      "[289 rows x 6 columns]\n"
     ]
    }
   ],
   "source": [
    "X_train, X_test, y_train, y_test = train_test_split(\n",
    "...     data, price, test_size=0.30, random_state=42)\n",
    "y_train.shape\n",
    "print(X_train)"
   ]
  },
  {
   "cell_type": "code",
   "execution_count": 7,
   "metadata": {},
   "outputs": [
    {
     "name": "stdout",
     "output_type": "stream",
     "text": [
      "38.44186851211073\n",
      "13.021642241849854\n"
     ]
    }
   ],
   "source": [
    "regression = DecisionTreeRegressor()\n",
    "meany=np.mean(y_train)\n",
    "print(meany)\n",
    "print((np.mean((meany-y_test.values)**2))**0.5)"
   ]
  },
  {
   "cell_type": "code",
   "execution_count": 8,
   "metadata": {},
   "outputs": [
    {
     "data": {
      "text/plain": [
       "DecisionTreeRegressor(criterion='mse', max_depth=None, max_features=None,\n",
       "           max_leaf_nodes=None, min_impurity_decrease=0.0,\n",
       "           min_impurity_split=None, min_samples_leaf=1,\n",
       "           min_samples_split=2, min_weight_fraction_leaf=0.0,\n",
       "           presort=False, random_state=None, splitter='best')"
      ]
     },
     "execution_count": 8,
     "metadata": {},
     "output_type": "execute_result"
    }
   ],
   "source": [
    "regression.fit(X_train,y_train)"
   ]
  },
  {
   "cell_type": "code",
   "execution_count": 9,
   "metadata": {},
   "outputs": [
    {
     "name": "stdout",
     "output_type": "stream",
     "text": [
      "[48.6  38.9  43.5  29.3  25.7  36.5  51.7  53.3  12.8  58.1  29.4  33.4\n",
      " 48.   13.8  39.6  23.   40.6  55.2  21.8  40.6  14.4  20.9  43.1  36.3\n",
      " 11.6  33.1  12.8  43.5  60.7  35.3  22.6  21.7  42.5  26.6  41.2  39.7\n",
      " 52.7  15.9  36.5  60.7  61.5  44.2  39.7  37.4  39.3  47.9  42.5  23.8\n",
      " 47.7  39.7  48.6  55.   42.3  37.5  37.4  15.9  38.1  22.8  25.7  51.7\n",
      " 27.7  27.   15.9  13.2  15.   20.9  21.5  44.2  39.6  25.3  39.3  61.5\n",
      " 55.2  36.9  34.2  26.5  46.4  26.9  40.2  31.1  37.8  42.1  21.5  67.7\n",
      " 25.6  27.7  38.1  41.6  29.7  34.   20.5  37.5  42.75 45.9  40.6  34.2\n",
      " 23.5  40.6  27.7  53.9  25.6  30.9  40.6  23.8  56.15 53.5  23.5  21.8\n",
      " 37.5  37.8  36.2  29.3  43.2  41.6  22.   55.2  51.7  39.7  25.3  30.1\n",
      " 40.6  18.2  69.7  54.4  46.4 ]\n",
      "[45.1 42.3 52.2 37.3 22.8 36.3 53.  51.4 16.1 59.  30.6 30.7 35.6 13.7\n",
      " 62.9 30.5 41.9 54.4 29.5 43.7 12.2 22.1 49.5 47.4 18.6 28.5 14.7 45.4\n",
      " 41.  35.1 22.1 28.9 30.5 26.5 49.3 37.  56.3 15.4 48.5 63.3 50.5 42.2\n",
      " 37.9 37.5 40.5 57.4 26.5 21.8 49.7 47.1 49.  60.7 33.1 41.  36.5 20.\n",
      " 34.7 30.6 25.6 46.2 27.7 27.  15.6 15.5 11.2 23.7 24.6 42.  29.8 28.9\n",
      " 48.1 36.8 53.5 51.6 38.8 37.4 40.6 37.2 25.  23.5 35.6 46.1 26.2 42.7\n",
      " 23.9 32.1 38.3 40.8 30.8 34.6 29.3 35.5 34.1 54.8 42.3 30.  21.3 38.6\n",
      " 28.1 55.  24.4 28.5  7.6 22.3 62.1 50.  31.3 25.7 37.5 39.  34.1 32.9\n",
      " 49.3 57.1 24.7 55.3 55.  53.3 23.1 29.5 40.1 45.1 70.1 50.7 37. ]\n",
      "8.008433055223724\n"
     ]
    }
   ],
   "source": [
    "predictions=regression.predict(X_test)\n",
    "print(predictions)\n",
    "print(y_test.values)\n",
    "print((np.mean((predictions-y_test.values)**2))**0.5) #root mean squared error, farklarin karelerinin ortalamasinin koku = standard deviation gibi birsey"
   ]
  },
  {
   "cell_type": "code",
   "execution_count": 10,
   "metadata": {},
   "outputs": [
    {
     "name": "stdout",
     "output_type": "stream",
     "text": [
      "[48.96  39.155 45.45  38.4   26.845 37.54  45.98  50.78  22.585 56.38\n",
      " 23.74  30.695 27.64  19.985 38.34  24.745 44.785 50.115 27.645 37.785\n",
      " 15.85  23.34  48.355 46.825 17.59  40.3   21.97  45.45  48.64  44.705\n",
      " 17.125 23.51  41.13  26.29  50.01  38.255 53.68  16.27  41.58  39.1\n",
      " 41.965 40.825 46.705 40.375 40.955 53.05  35.365 20.945 48.92  46.705\n",
      " 48.96  53.27  40.755 43.84  40.69  16.27  37.63  30.47  26.845 50.78\n",
      " 28.295 28.785 16.27  18.025 16.365 23.34  26.29  36.875 42.52  25.64\n",
      " 40.735 40.55  50.115 50.64  41.885 44.85  47.8   45.315 41.51  29.925\n",
      " 38.34  45.98  27.19  47.805 26.32  28.295 39.205 39.265 28.895 38.215\n",
      " 23.525 41.885 36.925 46.81  40.335 37.585 25.175 40.195 27.845 50.26\n",
      " 24.59  43.455 34.015 24.635 49.615 54.08  24.11  21.235 41.885 47.8\n",
      " 40.5   38.4   46.93  48.    23.095 49.035 50.78  43.38  26.27  28.04\n",
      " 42.555 23.525 63.485 51.86  39.935]\n",
      "[45.1 42.3 52.2 37.3 22.8 36.3 53.  51.4 16.1 59.  30.6 30.7 35.6 13.7\n",
      " 62.9 30.5 41.9 54.4 29.5 43.7 12.2 22.1 49.5 47.4 18.6 28.5 14.7 45.4\n",
      " 41.  35.1 22.1 28.9 30.5 26.5 49.3 37.  56.3 15.4 48.5 63.3 50.5 42.2\n",
      " 37.9 37.5 40.5 57.4 26.5 21.8 49.7 47.1 49.  60.7 33.1 41.  36.5 20.\n",
      " 34.7 30.6 25.6 46.2 27.7 27.  15.6 15.5 11.2 23.7 24.6 42.  29.8 28.9\n",
      " 48.1 36.8 53.5 51.6 38.8 37.4 40.6 37.2 25.  23.5 35.6 46.1 26.2 42.7\n",
      " 23.9 32.1 38.3 40.8 30.8 34.6 29.3 35.5 34.1 54.8 42.3 30.  21.3 38.6\n",
      " 28.1 55.  24.4 28.5  7.6 22.3 62.1 50.  31.3 25.7 37.5 39.  34.1 32.9\n",
      " 49.3 57.1 24.7 55.3 55.  53.3 23.1 29.5 40.1 45.1 70.1 50.7 37. ]\n",
      "6.8788919020435255\n",
      "7.303385516320496\n",
      "8.254716421537447\n",
      "7.303385516320496\n"
     ]
    }
   ],
   "source": [
    "from sklearn.neighbors import KNeighborsRegressor\n",
    "neigh = KNeighborsRegressor(n_neighbors=1)\n",
    "neigh2 = KNeighborsRegressor(n_neighbors=10)\n",
    "neigh.fit(X_train.iloc[:,:-2], y_train)   #Fit k-nn regressor using features other than latitude longtitude\n",
    "neigh2.fit(X_train.iloc[:,-2:], y_train)  #Fit k-nn regressor using latitude longtitude\n",
    "\n",
    "predictions1=neigh.predict(X_test.iloc[:,:-2])\n",
    "predictions2=neigh2.predict(X_test.iloc[:,-2:])\n",
    "predictions=(predictions1+predictions2)/2        #take average of the predictions\n",
    "print(predictions)\n",
    "print(y_test.values)\n",
    "print((np.mean((predictions-y_test.values)**2))**0.5) #root mean squared error calculation\n",
    "#take differences of the expected and the predicted values, square them, add them up, divide by the total number of examples, take square root\n",
    "#farklarin karelerinin ortalamasinin koku = standard deviation gibi birsey\n",
    "\n",
    "print((np.mean((predictions1-y_test.values)**2))**0.5) #root mean squared error of the first k-nn model\n",
    "print((np.mean((predictions2-y_test.values)**2))**0.5) #root mean squared error of the second k-nn model\n",
    "\n",
    "\n",
    "\n",
    "\n",
    "\n",
    "neigh3 = KNeighborsRegressor(n_neighbors=1)\n",
    "neigh3.fit(X_train, y_train)   #Fit k-nn regressor using features other than latitude longtitude\n",
    "predictions3=neigh3.predict(X_test)\n",
    "print((np.mean((predictions3-y_test.values)**2))**0.5) #root mean squared error calculation\n"
   ]
  },
  {
   "cell_type": "code",
   "execution_count": 11,
   "metadata": {},
   "outputs": [
    {
     "data": {
      "image/png": "[encoded data removed]",
      "text/plain": [
       "<Figure size 432x288 with 1 Axes>"
      ]
     },
     "metadata": {
      "needs_background": "light"
     },
     "output_type": "display_data"
    }
   ],
   "source": [
    "stores=X_test[\"X4 number of convenience stores\"].values\n",
    "plt.scatter(stores,predictions,color= \"red\")\n",
    "plt.xlabel(\"Stores\")\n",
    "plt.ylabel(\"Price\")\n",
    "plt.title(\"Our Model\")\n",
    "plt.show()"
   ]
  },
  {
   "cell_type": "code",
   "execution_count": 12,
   "metadata": {},
   "outputs": [
    {
     "data": {
      "image/png": "[encoded data removed]",
      "text/plain": [
       "<Figure size 432x288 with 1 Axes>"
      ]
     },
     "metadata": {
      "needs_background": "light"
     },
     "output_type": "display_data"
    }
   ],
   "source": [
    "stores=X_test[\"X4 number of convenience stores\"].values\n",
    "plt.scatter(stores,y_test,color= \"red\")\n",
    "plt.xlabel(\"Stores\")\n",
    "plt.ylabel(\"Price\")\n",
    "plt.title(\"Given data\")\n",
    "plt.show()"
   ]
  }
 ],
 "metadata": {
  "kernelspec": {
   "display_name": "Python 3",
   "language": "python",
   "name": "python3"
  },
  "language_info": {
   "codemirror_mode": {
    "name": "ipython",
    "version": 3
   },
   "file_extension": ".py",
   "mimetype": "text/x-python",
   "name": "python",
   "nbconvert_exporter": "python",
   "pygments_lexer": "ipython3",
   "version": "3.7.2"
  }
 },
 "nbformat": 4,
 "nbformat_minor": 2
}
